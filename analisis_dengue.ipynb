{
 "cells": [
  {
   "cell_type": "code",
   "execution_count": null,
   "id": "72902a6d",
   "metadata": {},
   "outputs": [],
   "source": [
    "import pandas as pd"
   ]
  },
  {
   "cell_type": "code",
   "execution_count": null,
   "id": "6e03567e",
   "metadata": {},
   "outputs": [],
   "source": [
    "df = pd.read_csv(\"datos/dengue.csv\")\n",
    "df.head()"
   ]
  },
  {
   "cell_type": "code",
   "execution_count": null,
   "id": "e907d481",
   "metadata": {},
   "outputs": [],
   "source": [
    "df_sin5 = df[df[\"RESULTADO_PCR\"] != 10]\n",
    "df_sin5.head()"
   ]
  },
  {
   "cell_type": "code",
   "execution_count": null,
   "id": "40beac83",
   "metadata": {},
   "outputs": [],
   "source": [
    "# FECHA_ACTUALIZACION a datetime, ej. 2021-06-29\n",
    "import datetime\n",
    "\n",
    "\n",
    "def to_datetime(x):\n",
    "    try:\n",
    "        return datetime.datetime.strptime(x, \"%d-%m-%Y\")\n",
    "    except ValueError:\n",
    "        try:\n",
    "            return datetime.datetime.strptime(x, \"%d/%m/%Y\")\n",
    "        except:\n",
    "            try:\n",
    "                return datetime.datetime.strptime(x, \"%Y-%m-%d\")\n",
    "            except:                    \n",
    "                print(f\"Error converting {x} to datetime\")\n",
    "                return x\n",
    "\n",
    "df_sin5[\"FECHA_ACTUALIZACION\"] = df_sin5[\"FECHA_ACTUALIZACION\"].apply(\n",
    "    lambda x: to_datetime(x)\n",
    ")\n",
    "df_sin5[\"FECHA_ACTUALIZACION\"].head()"
   ]
  },
  {
   "cell_type": "code",
   "execution_count": null,
   "id": "7551c979",
   "metadata": {},
   "outputs": [],
   "source": [
    "# turn Fecha into index\n",
    "df_time = df_sin5.set_index(\"FECHA_ACTUALIZACION\", inplace=True)"
   ]
  },
  {
   "cell_type": "code",
   "execution_count": null,
   "id": "d5275724",
   "metadata": {},
   "outputs": [],
   "source": [
    "# plot the data\n",
    "import matplotlib.pyplot as plt\n",
    "import matplotlib.dates as mdates\n",
    "import seaborn as sns\n",
    "\n",
    "df_time[\"\"]"
   ]
  },
  {
   "cell_type": "code",
   "execution_count": null,
   "id": "8ce80a7a",
   "metadata": {},
   "outputs": [],
   "source": []
  }
 ],
 "metadata": {
  "kernelspec": {
   "display_name": "base",
   "language": "python",
   "name": "python3"
  },
  "language_info": {
   "codemirror_mode": {
    "name": "ipython",
    "version": 3
   },
   "file_extension": ".py",
   "mimetype": "text/x-python",
   "name": "python",
   "nbconvert_exporter": "python",
   "pygments_lexer": "ipython3",
   "version": "3.9.12"
  }
 },
 "nbformat": 4,
 "nbformat_minor": 5
}
